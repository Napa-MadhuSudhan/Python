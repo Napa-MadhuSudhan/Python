{
 "cells": [
  {
   "cell_type": "markdown",
   "id": "3498bcec",
   "metadata": {},
   "source": [
    "# Practice Problem : Minimum number of jumps"
   ]
  },
  {
   "cell_type": "code",
   "execution_count": 9,
   "id": "3b59ffb9",
   "metadata": {},
   "outputs": [],
   "source": [
    "def minJumps(arr, n):\n",
    "    #code here\n",
    "        if arr[0] == 0 or n == 0 :\n",
    "            return -1\n",
    "        elif n==1:\n",
    "            return 1\n",
    "        jumps = i = 1\n",
    "        max_reach = curr = arr[0] \n",
    "        while i<n:\n",
    "            max_reach = max(max_reach, i+arr[i])\n",
    "            curr -=1\n",
    "            if(curr == 0 ):\n",
    "                jumps += 1\n",
    "                if( i>= max_reach):\n",
    "                    return -1\n",
    "                curr = max_reach - i\n",
    "\n",
    "            i+=1\n",
    "            if(i==n-1):\n",
    "                return jumps"
   ]
  },
  {
   "cell_type": "code",
   "execution_count": 10,
   "id": "e204494b",
   "metadata": {},
   "outputs": [
    {
     "data": {
      "text/plain": [
       "2"
      ]
     },
     "execution_count": 10,
     "metadata": {},
     "output_type": "execute_result"
    }
   ],
   "source": [
    "minJumps([1,3,5,7,8],5)"
   ]
  },
  {
   "cell_type": "code",
   "execution_count": null,
   "id": "094cf0a2",
   "metadata": {},
   "outputs": [],
   "source": []
  }
 ],
 "metadata": {
  "kernelspec": {
   "display_name": "Python 3 (ipykernel)",
   "language": "python",
   "name": "python3"
  },
  "language_info": {
   "codemirror_mode": {
    "name": "ipython",
    "version": 3
   },
   "file_extension": ".py",
   "mimetype": "text/x-python",
   "name": "python",
   "nbconvert_exporter": "python",
   "pygments_lexer": "ipython3",
   "version": "3.9.13"
  }
 },
 "nbformat": 4,
 "nbformat_minor": 5
}
